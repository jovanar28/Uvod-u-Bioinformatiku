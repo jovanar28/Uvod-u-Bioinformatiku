{
  "nbformat": 4,
  "nbformat_minor": 0,
  "metadata": {
    "colab": {
      "provenance": []
    },
    "kernelspec": {
      "name": "python3",
      "display_name": "Python 3"
    },
    "language_info": {
      "name": "python"
    }
  },
  "cells": [
    {
      "cell_type": "code",
      "source": [
        "!pip install pysam\n",
        "!pip install crcmod\n",
        "!apt-get install samtools"
      ],
      "metadata": {
        "id": "WRilj2MV28NC",
        "collapsed": true
      },
      "execution_count": null,
      "outputs": []
    },
    {
      "cell_type": "code",
      "source": [
        "from google.colab import drive\n",
        "drive.mount('/content/drive')"
      ],
      "metadata": {
        "colab": {
          "base_uri": "https://localhost:8080/"
        },
        "id": "HAgFX8uiNGvu",
        "outputId": "90ba5031-fc0a-46ba-b3bc-d881c29acf97"
      },
      "execution_count": 6,
      "outputs": [
        {
          "output_type": "stream",
          "name": "stdout",
          "text": [
            "Mounted at /content/drive\n"
          ]
        }
      ]
    },
    {
      "cell_type": "code",
      "source": [
        "### picard\n",
        "!wget https://github.com/broadinstitute/picard/releases/download/2.21.6/picard.jar\n",
        "\n",
        "### GATK\n",
        "!wget -O gatk-4.1.4.1.zip \"https://github.com/broadinstitute/gatk/releases/download/4.1.4.1/gatk-4.1.4.1.zip\"\n",
        "!unzip gatk-4.1.4.1.zip\n",
        "!R -e 'install.packages(c(\"gplots\", \"gsalib\"))'"
      ],
      "metadata": {
        "id": "tj9Ktvoi3YW5",
        "collapsed": true
      },
      "execution_count": null,
      "outputs": []
    },
    {
      "cell_type": "code",
      "execution_count": null,
      "metadata": {
        "id": "pXDpIO8h2ftZ",
        "collapsed": true
      },
      "outputs": [],
      "source": [
        "#### downloading HG0096.chr20.sorted bam\n",
        "!gdown --id 1-0U11U1Z3Dp8vLHoZOtagQl25dFdza-C"
      ]
    },
    {
      "cell_type": "code",
      "source": [
        "!gsutil ls gs://genomics-public-data\n",
        "\n",
        "!gsutil ls gs://genomics-public-data/resources/broad/hg38/v0\n",
        "\n",
        "!wget https://storage.googleapis.com/genomics-public-data/resources/broad/hg38/v0/Homo_sapiens_assembly38.fasta\n",
        "\n",
        "!git clone https://github.com/lh3/bwa.git\n",
        "!cd bwa && make"
      ],
      "metadata": {
        "id": "4OpIrBlS3KVK",
        "collapsed": true
      },
      "execution_count": null,
      "outputs": []
    },
    {
      "cell_type": "code",
      "source": [
        "# Instaliranje rpy2 biblioteke\n",
        "!pip install rpy2\n",
        "\n",
        "# Uvoz rpy2 modula\n",
        "import rpy2.robjects.packages as rpackages\n",
        "from rpy2.robjects.vectors import StrVector\n",
        "\n",
        "# Liste paketa\n",
        "packnames = ['gplots', 'ggplot2', 'gsalib', 'reshape']\n",
        "\n",
        "# Instalacija paketa\n",
        "utils = rpackages.importr('utils')\n",
        "utils.chooseCRANmirror(ind=1)\n",
        "utils.install_packages(StrVector(packnames))"
      ],
      "metadata": {
        "collapsed": true,
        "id": "tArrE_FwYYlC"
      },
      "execution_count": null,
      "outputs": []
    },
    {
      "cell_type": "markdown",
      "source": [],
      "metadata": {
        "id": "PCthXiaf4w--"
      }
    },
    {
      "cell_type": "code",
      "source": [
        "!gsutil cp -r gs://genomics-public-data/resources/broad/hg38/v0 .\n"
      ],
      "metadata": {
        "id": "dPJdNlGe4KYZ",
        "collapsed": true
      },
      "execution_count": null,
      "outputs": []
    },
    {
      "cell_type": "code",
      "source": [
        "!bwa/bwa mem -M -R '@RG\\tID:1\\tPL:Illumina\\tSM:HG00096' -o file.sam {'/content/v0/Homo_sapiens_assembly38.fasta'} {'/content/drive/MyDrive/sample_4.chrom11.exome.pe1.fq'} {'/content/drive/MyDrive/sample_4.chrom11.exome.pe2.fq'}\n",
        "!samtools view -b -o file.bam file.sam\n",
        "!samtools sort -o file.sorted.bam file.bam\n",
        "!samtools index file.sorted.bam"
      ],
      "metadata": {
        "collapsed": true,
        "id": "3sSZrdL2_fZH"
      },
      "execution_count": null,
      "outputs": []
    },
    {
      "cell_type": "code",
      "source": [
        "import pysam\n",
        "import matplotlib.pyplot as plt\n",
        "import numpy as np\n",
        "import pandas as pd"
      ],
      "metadata": {
        "id": "V-6-pZQ6HOHT"
      },
      "execution_count": 8,
      "outputs": []
    },
    {
      "cell_type": "markdown",
      "source": [
        "Mapirati sekvencirane readove na referentni genom hg38 upotrebom alata BWA Mem. Upotrebom python biblioteke pysam odrediti sledeće:\n",
        "\n",
        "2a. Koliko je readova uspešno mapirano?"
      ],
      "metadata": {
        "id": "_TaOisggHB1l"
      }
    },
    {
      "cell_type": "code",
      "source": [
        "print('Uspesno je mapirano :')\n",
        "sum(not read.is_unmapped for read in pysam.AlignmentFile('/content/file.sorted.bam'))"
      ],
      "metadata": {
        "colab": {
          "base_uri": "https://localhost:8080/"
        },
        "id": "KQ6df2DcHDC1",
        "outputId": "f84fa8bf-8f25-4f5f-8d71-6f5bd8b6faee"
      },
      "execution_count": 9,
      "outputs": [
        {
          "output_type": "stream",
          "name": "stdout",
          "text": [
            "Uspesno je mapirano :\n"
          ]
        },
        {
          "output_type": "execute_result",
          "data": {
            "text/plain": [
              "8767682"
            ]
          },
          "metadata": {},
          "execution_count": 9
        }
      ]
    },
    {
      "cell_type": "markdown",
      "source": [
        "2b. Koliko je parova readova mapirano tako da su oba para mapirana?"
      ],
      "metadata": {
        "id": "oFK8j1gOHU0F"
      }
    },
    {
      "cell_type": "code",
      "source": [
        "br = 0\n",
        "for read in pysam.AlignmentFile('/content/file.sorted.bam'):\n",
        "    if(read.is_proper_pair):\n",
        "      br += 1\n",
        "print('Broj readova tako da su oba para mapirana' )\n",
        "print(br)"
      ],
      "metadata": {
        "colab": {
          "base_uri": "https://localhost:8080/"
        },
        "id": "4UFLfXBGHSVI",
        "outputId": "8b2658c7-d3e5-4e40-f055-87cec0945826"
      },
      "execution_count": 10,
      "outputs": [
        {
          "output_type": "stream",
          "name": "stdout",
          "text": [
            "Broj readova tako da su oba para mapirana\n",
            "8621764\n"
          ]
        }
      ]
    },
    {
      "cell_type": "code",
      "source": [
        "print(sum(1 for read in pysam.AlignmentFile('/content/file.sorted.bam').fetch() if read.is_paired and not read.mate_is_unmapped and not read.is_duplicate))"
      ],
      "metadata": {
        "colab": {
          "base_uri": "https://localhost:8080/"
        },
        "id": "6heTGeOhQt8q",
        "outputId": "a7269e4b-1a97-4ff5-b7c5-cf754ac72e98"
      },
      "execution_count": 18,
      "outputs": [
        {
          "output_type": "stream",
          "name": "stdout",
          "text": [
            "8767573\n"
          ]
        }
      ]
    },
    {
      "cell_type": "markdown",
      "source": [
        "2c. Nacrtati histogram dužina sekvenciranih fragmenata (template_length)."
      ],
      "metadata": {
        "id": "vWpahXgBH-A4"
      }
    },
    {
      "cell_type": "code",
      "source": [
        "fig = plt.figure(figsize=(20, 4))\n",
        "ax = fig.add_subplot(1, 4, 1)\n",
        "\n",
        "bam_file = pysam.AlignmentFile('/content/file.sorted.bam', 'rb')\n",
        "template_lengths = [record.template_length for record in bam_file.fetch('chr11')]\n",
        "bam_file.close()\n",
        "lengths = np.array(template_lengths)\n",
        "print(lengths)\n",
        "\n",
        "ax.hist(lengths, label = 'lenghts', bins = 100)\n",
        "ax.legend()"
      ],
      "metadata": {
        "colab": {
          "base_uri": "https://localhost:8080/",
          "height": 437
        },
        "id": "0iLpRUMDH-ee",
        "outputId": "ac49ab32-edd7-460a-c4ad-fc114e26bff1"
      },
      "execution_count": 57,
      "outputs": [
        {
          "output_type": "stream",
          "name": "stdout",
          "text": [
            "[ 192  172  247 ...  -19  238 -238]\n"
          ]
        },
        {
          "output_type": "execute_result",
          "data": {
            "text/plain": [
              "<matplotlib.legend.Legend at 0x7a1e340e8a90>"
            ]
          },
          "metadata": {},
          "execution_count": 57
        },
        {
          "output_type": "display_data",
          "data": {
            "text/plain": [
              "<Figure size 2000x400 with 1 Axes>"
            ],
            "image/png": "[encoded data removed]"
          },
          "metadata": {}
        }
      ]
    },
    {
      "cell_type": "markdown",
      "source": [
        " Izvršiti obradu dobijenog BAM fajla prema GATK protokolu (Markiranje Duplikata, rekalibracija kvaliteta baza)\n"
      ],
      "metadata": {
        "id": "68513GmfILPR"
      }
    },
    {
      "cell_type": "markdown",
      "source": [
        "Markiranje duplikata"
      ],
      "metadata": {
        "id": "l7DpWukCKb9f"
      }
    },
    {
      "cell_type": "code",
      "source": [
        "ibam = 'file.sorted.bam'\n",
        "obam = 'file.deduped.bam'\n",
        "\n",
        "!java -jar picard.jar MarkDuplicates I={ibam} O={obam} M=dup_metrics.txt\n",
        "\n",
        "!grep -A2 '## METRICS CLASS' dup_metrics.txt | grep -v '## METRICS CLASS' > report.tsv"
      ],
      "metadata": {
        "id": "wqse72yOKauW",
        "collapsed": true
      },
      "execution_count": null,
      "outputs": []
    },
    {
      "cell_type": "markdown",
      "source": [
        "3a. Koliki su procenati PCR i optičkih duplikata?"
      ],
      "metadata": {
        "id": "cwRzkslxKg1e"
      }
    },
    {
      "cell_type": "code",
      "source": [
        "pd.read_csv('report.tsv', sep='\\t')"
      ],
      "metadata": {
        "colab": {
          "base_uri": "https://localhost:8080/",
          "height": 118
        },
        "id": "VQVbXQIAKnSY",
        "outputId": "23b4abc5-8f72-4220-9ef7-7de4dbcbdf10"
      },
      "execution_count": 13,
      "outputs": [
        {
          "output_type": "execute_result",
          "data": {
            "text/plain": [
              "           LIBRARY  UNPAIRED_READS_EXAMINED  READ_PAIRS_EXAMINED  \\\n",
              "0  Unknown Library                    48390              4351171   \n",
              "\n",
              "   SECONDARY_OR_SUPPLEMENTARY_RDS  UNMAPPED_READS  UNPAIRED_READ_DUPLICATES  \\\n",
              "0                           16950          257476                     36432   \n",
              "\n",
              "   READ_PAIR_DUPLICATES  READ_PAIR_OPTICAL_DUPLICATES  PERCENT_DUPLICATION  \\\n",
              "0                561766                             0             0.132556   \n",
              "\n",
              "   ESTIMATED_LIBRARY_SIZE  \n",
              "0                15367092  "
            ],
            "text/html": [
              "\n",
              "  <div id=\"df-3fed6d73-e8e2-49b4-b262-72c44df4127c\" class=\"colab-df-container\">\n",
              "    <div>\n",
              "<style scoped>\n",
              "    .dataframe tbody tr th:only-of-type {\n",
              "        vertical-align: middle;\n",
              "    }\n",
              "\n",
              "    .dataframe tbody tr th {\n",
              "        vertical-align: top;\n",
              "    }\n",
              "\n",
              "    .dataframe thead th {\n",
              "        text-align: right;\n",
              "    }\n",
              "</style>\n",
              "<table border=\"1\" class=\"dataframe\">\n",
              "  <thead>\n",
              "    <tr style=\"text-align: right;\">\n",
              "      <th></th>\n",
              "      <th>LIBRARY</th>\n",
              "      <th>UNPAIRED_READS_EXAMINED</th>\n",
              "      <th>READ_PAIRS_EXAMINED</th>\n",
              "      <th>SECONDARY_OR_SUPPLEMENTARY_RDS</th>\n",
              "      <th>UNMAPPED_READS</th>\n",
              "      <th>UNPAIRED_READ_DUPLICATES</th>\n",
              "      <th>READ_PAIR_DUPLICATES</th>\n",
              "      <th>READ_PAIR_OPTICAL_DUPLICATES</th>\n",
              "      <th>PERCENT_DUPLICATION</th>\n",
              "      <th>ESTIMATED_LIBRARY_SIZE</th>\n",
              "    </tr>\n",
              "  </thead>\n",
              "  <tbody>\n",
              "    <tr>\n",
              "      <th>0</th>\n",
              "      <td>Unknown Library</td>\n",
              "      <td>48390</td>\n",
              "      <td>4351171</td>\n",
              "      <td>16950</td>\n",
              "      <td>257476</td>\n",
              "      <td>36432</td>\n",
              "      <td>561766</td>\n",
              "      <td>0</td>\n",
              "      <td>0.132556</td>\n",
              "      <td>15367092</td>\n",
              "    </tr>\n",
              "  </tbody>\n",
              "</table>\n",
              "</div>\n",
              "    <div class=\"colab-df-buttons\">\n",
              "\n",
              "  <div class=\"colab-df-container\">\n",
              "    <button class=\"colab-df-convert\" onclick=\"convertToInteractive('df-3fed6d73-e8e2-49b4-b262-72c44df4127c')\"\n",
              "            title=\"Convert this dataframe to an interactive table.\"\n",
              "            style=\"display:none;\">\n",
              "\n",
              "  <svg xmlns=\"http://www.w3.org/2000/svg\" height=\"24px\" viewBox=\"0 -960 960 960\">\n",
              "    <path d=\"M120-120v-720h720v720H120Zm60-500h600v-160H180v160Zm220 220h160v-160H400v160Zm0 220h160v-160H400v160ZM180-400h160v-160H180v160Zm440 0h160v-160H620v160ZM180-180h160v-160H180v160Zm440 0h160v-160H620v160Z\"/>\n",
              "  </svg>\n",
              "    </button>\n",
              "\n",
              "  <style>\n",
              "    .colab-df-container {\n",
              "      display:flex;\n",
              "      gap: 12px;\n",
              "    }\n",
              "\n",
              "    .colab-df-convert {\n",
              "      background-color: #E8F0FE;\n",
              "      border: none;\n",
              "      border-radius: 50%;\n",
              "      cursor: pointer;\n",
              "      display: none;\n",
              "      fill: #1967D2;\n",
              "      height: 32px;\n",
              "      padding: 0 0 0 0;\n",
              "      width: 32px;\n",
              "    }\n",
              "\n",
              "    .colab-df-convert:hover {\n",
              "      background-color: #E2EBFA;\n",
              "      box-shadow: 0px 1px 2px rgba(60, 64, 67, 0.3), 0px 1px 3px 1px rgba(60, 64, 67, 0.15);\n",
              "      fill: #174EA6;\n",
              "    }\n",
              "\n",
              "    .colab-df-buttons div {\n",
              "      margin-bottom: 4px;\n",
              "    }\n",
              "\n",
              "    [theme=dark] .colab-df-convert {\n",
              "      background-color: #3B4455;\n",
              "      fill: #D2E3FC;\n",
              "    }\n",
              "\n",
              "    [theme=dark] .colab-df-convert:hover {\n",
              "      background-color: #434B5C;\n",
              "      box-shadow: 0px 1px 3px 1px rgba(0, 0, 0, 0.15);\n",
              "      filter: drop-shadow(0px 1px 2px rgba(0, 0, 0, 0.3));\n",
              "      fill: #FFFFFF;\n",
              "    }\n",
              "  </style>\n",
              "\n",
              "    <script>\n",
              "      const buttonEl =\n",
              "        document.querySelector('#df-3fed6d73-e8e2-49b4-b262-72c44df4127c button.colab-df-convert');\n",
              "      buttonEl.style.display =\n",
              "        google.colab.kernel.accessAllowed ? 'block' : 'none';\n",
              "\n",
              "      async function convertToInteractive(key) {\n",
              "        const element = document.querySelector('#df-3fed6d73-e8e2-49b4-b262-72c44df4127c');\n",
              "        const dataTable =\n",
              "          await google.colab.kernel.invokeFunction('convertToInteractive',\n",
              "                                                    [key], {});\n",
              "        if (!dataTable) return;\n",
              "\n",
              "        const docLinkHtml = 'Like what you see? Visit the ' +\n",
              "          '<a target=\"_blank\" href=https://colab.research.google.com/notebooks/data_table.ipynb>data table notebook</a>'\n",
              "          + ' to learn more about interactive tables.';\n",
              "        element.innerHTML = '';\n",
              "        dataTable['output_type'] = 'display_data';\n",
              "        await google.colab.output.renderOutput(dataTable, element);\n",
              "        const docLink = document.createElement('div');\n",
              "        docLink.innerHTML = docLinkHtml;\n",
              "        element.appendChild(docLink);\n",
              "      }\n",
              "    </script>\n",
              "  </div>\n",
              "\n",
              "    </div>\n",
              "  </div>\n"
            ],
            "application/vnd.google.colaboratory.intrinsic+json": {
              "type": "dataframe",
              "summary": "{\n  \"name\": \"pd\",\n  \"rows\": 1,\n  \"fields\": [\n    {\n      \"column\": \"LIBRARY\",\n      \"properties\": {\n        \"dtype\": \"string\",\n        \"num_unique_values\": 1,\n        \"samples\": [\n          \"Unknown Library\"\n        ],\n        \"semantic_type\": \"\",\n        \"description\": \"\"\n      }\n    },\n    {\n      \"column\": \"UNPAIRED_READS_EXAMINED\",\n      \"properties\": {\n        \"dtype\": \"number\",\n        \"std\": null,\n        \"min\": 48390,\n        \"max\": 48390,\n        \"num_unique_values\": 1,\n        \"samples\": [\n          48390\n        ],\n        \"semantic_type\": \"\",\n        \"description\": \"\"\n      }\n    },\n    {\n      \"column\": \"READ_PAIRS_EXAMINED\",\n      \"properties\": {\n        \"dtype\": \"number\",\n        \"std\": null,\n        \"min\": 4351171,\n        \"max\": 4351171,\n        \"num_unique_values\": 1,\n        \"samples\": [\n          4351171\n        ],\n        \"semantic_type\": \"\",\n        \"description\": \"\"\n      }\n    },\n    {\n      \"column\": \"SECONDARY_OR_SUPPLEMENTARY_RDS\",\n      \"properties\": {\n        \"dtype\": \"number\",\n        \"std\": null,\n        \"min\": 16950,\n        \"max\": 16950,\n        \"num_unique_values\": 1,\n        \"samples\": [\n          16950\n        ],\n        \"semantic_type\": \"\",\n        \"description\": \"\"\n      }\n    },\n    {\n      \"column\": \"UNMAPPED_READS\",\n      \"properties\": {\n        \"dtype\": \"number\",\n        \"std\": null,\n        \"min\": 257476,\n        \"max\": 257476,\n        \"num_unique_values\": 1,\n        \"samples\": [\n          257476\n        ],\n        \"semantic_type\": \"\",\n        \"description\": \"\"\n      }\n    },\n    {\n      \"column\": \"UNPAIRED_READ_DUPLICATES\",\n      \"properties\": {\n        \"dtype\": \"number\",\n        \"std\": null,\n        \"min\": 36432,\n        \"max\": 36432,\n        \"num_unique_values\": 1,\n        \"samples\": [\n          36432\n        ],\n        \"semantic_type\": \"\",\n        \"description\": \"\"\n      }\n    },\n    {\n      \"column\": \"READ_PAIR_DUPLICATES\",\n      \"properties\": {\n        \"dtype\": \"number\",\n        \"std\": null,\n        \"min\": 561766,\n        \"max\": 561766,\n        \"num_unique_values\": 1,\n        \"samples\": [\n          561766\n        ],\n        \"semantic_type\": \"\",\n        \"description\": \"\"\n      }\n    },\n    {\n      \"column\": \"READ_PAIR_OPTICAL_DUPLICATES\",\n      \"properties\": {\n        \"dtype\": \"number\",\n        \"std\": null,\n        \"min\": 0,\n        \"max\": 0,\n        \"num_unique_values\": 1,\n        \"samples\": [\n          0\n        ],\n        \"semantic_type\": \"\",\n        \"description\": \"\"\n      }\n    },\n    {\n      \"column\": \"PERCENT_DUPLICATION\",\n      \"properties\": {\n        \"dtype\": \"number\",\n        \"std\": null,\n        \"min\": 0.132556,\n        \"max\": 0.132556,\n        \"num_unique_values\": 1,\n        \"samples\": [\n          0.132556\n        ],\n        \"semantic_type\": \"\",\n        \"description\": \"\"\n      }\n    },\n    {\n      \"column\": \"ESTIMATED_LIBRARY_SIZE\",\n      \"properties\": {\n        \"dtype\": \"number\",\n        \"std\": null,\n        \"min\": 15367092,\n        \"max\": 15367092,\n        \"num_unique_values\": 1,\n        \"samples\": [\n          15367092\n        ],\n        \"semantic_type\": \"\",\n        \"description\": \"\"\n      }\n    }\n  ]\n}"
            }
          },
          "metadata": {},
          "execution_count": 13
        }
      ]
    },
    {
      "cell_type": "code",
      "source": [
        "#broj duplikata je read_pair_duplicates * 2 + unpaired_read_duplicates\n",
        "# 2 jer su upareni\n",
        "561766*2 + 36432\n"
      ],
      "metadata": {
        "colab": {
          "base_uri": "https://localhost:8080/"
        },
        "id": "Ii_vDV-GR8dE",
        "outputId": "ce5a3517-6cd0-4c43-c4dd-4bdfcc14e322"
      },
      "execution_count": 21,
      "outputs": [
        {
          "output_type": "execute_result",
          "data": {
            "text/plain": [
              "1159964"
            ]
          },
          "metadata": {},
          "execution_count": 21
        }
      ]
    },
    {
      "cell_type": "markdown",
      "source": [
        "Rekalibracija kvaliteta baza"
      ],
      "metadata": {
        "id": "PlgGkXkJKoK9"
      }
    },
    {
      "cell_type": "code",
      "source": [
        "ibam = '/content/file.deduped.bam'\n",
        "obam = 'file.recalibrated.bam'\n",
        "recal = 'file.recal.table'\n",
        "\n",
        "#baza mutacija\n",
        "dbsnp = '/content/v0/Homo_sapiens_assembly38.dbsnp138.vcf'\n",
        "ref = '/content/v0/Homo_sapiens_assembly38.fasta'\n",
        "\n",
        "gatk = 'java -jar gatk-4.1.4.1/gatk-package-4.1.4.1-local.jar'"
      ],
      "metadata": {
        "id": "HdxKrhriKt87"
      },
      "execution_count": 24,
      "outputs": []
    },
    {
      "cell_type": "code",
      "source": [
        "!{gatk} BaseRecalibrator -I {ibam} --known-sites {dbsnp} -O {recal} --reference {ref}"
      ],
      "metadata": {
        "id": "dUtj9llCKvb9",
        "collapsed": true
      },
      "execution_count": null,
      "outputs": []
    },
    {
      "cell_type": "code",
      "source": [
        "# pravi novi bam fajl sa prepravljenim kvalitetima baza\n",
        "!{gatk} ApplyBQSR -I {ibam} -bqsr {recal} -O {obam}\n"
      ],
      "metadata": {
        "collapsed": true,
        "id": "GlxIgOV5bfEZ"
      },
      "execution_count": null,
      "outputs": []
    },
    {
      "cell_type": "code",
      "source": [
        "post_recal = 'file.post_recal.table'\n",
        "# ovo treba da izgenerise report i opet ga propustamo kroz base recalibrator\n",
        "!{gatk} BaseRecalibrator -I {obam} --known-sites {dbsnp} -O {post_recal} --reference {ref}\n"
      ],
      "metadata": {
        "collapsed": true,
        "id": "609XBy92biPR"
      },
      "execution_count": null,
      "outputs": []
    },
    {
      "cell_type": "code",
      "source": [
        "# ovde je sve lepo plotovano i analizirano\n",
        "!{gatk} AnalyzeCovariates -before {recal} -after {post_recal} -plots 'compare.pdf'"
      ],
      "metadata": {
        "colab": {
          "base_uri": "https://localhost:8080/"
        },
        "id": "VYx1XfORbk4p",
        "outputId": "2783d7ba-be2f-407b-839c-a461b423fe73"
      },
      "execution_count": 30,
      "outputs": [
        {
          "output_type": "stream",
          "name": "stdout",
          "text": [
            "18:48:16.070 INFO  NativeLibraryLoader - Loading libgkl_compression.so from jar:file:/content/gatk-4.1.4.1/gatk-package-4.1.4.1-local.jar!/com/intel/gkl/native/libgkl_compression.so\n",
            "18:48:16.682 INFO  AnalyzeCovariates - ------------------------------------------------------------\n",
            "18:48:16.685 INFO  AnalyzeCovariates - The Genome Analysis Toolkit (GATK) v4.1.4.1\n",
            "18:48:16.685 INFO  AnalyzeCovariates - For support and documentation go to https://software.broadinstitute.org/gatk/\n",
            "18:48:16.686 INFO  AnalyzeCovariates - Executing as root@8f3a6fe38d83 on Linux v6.1.85+ amd64\n",
            "18:48:16.688 INFO  AnalyzeCovariates - Java runtime: OpenJDK 64-Bit Server VM v11.0.23+9-post-Ubuntu-1ubuntu122.04.1\n",
            "18:48:16.689 INFO  AnalyzeCovariates - Start Date/Time: June 10, 2024 at 6:48:15 PM UTC\n",
            "18:48:16.689 INFO  AnalyzeCovariates - ------------------------------------------------------------\n",
            "18:48:16.689 INFO  AnalyzeCovariates - ------------------------------------------------------------\n",
            "18:48:16.692 INFO  AnalyzeCovariates - HTSJDK Version: 2.21.0\n",
            "18:48:16.692 INFO  AnalyzeCovariates - Picard Version: 2.21.2\n",
            "18:48:16.692 INFO  AnalyzeCovariates - HTSJDK Defaults.COMPRESSION_LEVEL : 2\n",
            "18:48:16.692 INFO  AnalyzeCovariates - HTSJDK Defaults.USE_ASYNC_IO_READ_FOR_SAMTOOLS : false\n",
            "18:48:16.693 INFO  AnalyzeCovariates - HTSJDK Defaults.USE_ASYNC_IO_WRITE_FOR_SAMTOOLS : true\n",
            "18:48:16.693 INFO  AnalyzeCovariates - HTSJDK Defaults.USE_ASYNC_IO_WRITE_FOR_TRIBBLE : false\n",
            "18:48:16.693 INFO  AnalyzeCovariates - Deflater: IntelDeflater\n",
            "18:48:16.693 INFO  AnalyzeCovariates - Inflater: IntelInflater\n",
            "18:48:16.694 INFO  AnalyzeCovariates - GCS max retries/reopens: 20\n",
            "18:48:16.694 INFO  AnalyzeCovariates - Requester pays: disabled\n",
            "18:48:16.694 INFO  AnalyzeCovariates - Initializing engine\n",
            "18:48:16.694 INFO  AnalyzeCovariates - Done initializing engine\n",
            "18:48:18.721 INFO  AnalyzeCovariates - Generating csv file '/tmp/AnalyzeCovariates6995602493723396872.csv'\n",
            "18:48:19.001 INFO  AnalyzeCovariates - Generating plots file 'compare.pdf'\n",
            "18:48:22.377 INFO  AnalyzeCovariates - Shutting down engine\n",
            "[June 10, 2024 at 6:48:22 PM UTC] org.broadinstitute.hellbender.tools.walkers.bqsr.AnalyzeCovariates done. Elapsed time: 0.11 minutes.\n",
            "Runtime.totalMemory()=272629760\n",
            "org.broadinstitute.hellbender.utils.R.RScriptExecutorException: \n",
            "Rscript exited with 1\n",
            "Command Line: Rscript -e tempLibDir = '/tmp/Rlib.10474887584272849345';source('/tmp/BQSR.9481750751035882390.R'); /tmp/AnalyzeCovariates6995602493723396872.csv /content/file.recal.table /content/compare.pdf\n",
            "Stdout: \n",
            "Stderr: \n",
            "Attaching package: ‘gplots’\n",
            "\n",
            "The following object is masked from ‘package:stats’:\n",
            "\n",
            "    lowess\n",
            "\n",
            "Error in eval(ei, envir) : object 'a' not found\n",
            "Calls: source -> withVisible -> eval -> eval -> distributeGraphRows\n",
            "In addition: There were 25 warnings (use warnings() to see them)\n",
            "Execution halted\n",
            "\n",
            "\tat org.broadinstitute.hellbender.utils.R.RScriptExecutor.getScriptException(RScriptExecutor.java:80)\n",
            "\tat org.broadinstitute.hellbender.utils.R.RScriptExecutor.getScriptException(RScriptExecutor.java:19)\n",
            "\tat org.broadinstitute.hellbender.utils.runtime.ScriptExecutor.executeCuratedArgs(ScriptExecutor.java:126)\n",
            "\tat org.broadinstitute.hellbender.utils.R.RScriptExecutor.exec(RScriptExecutor.java:126)\n",
            "\tat org.broadinstitute.hellbender.utils.recalibration.RecalUtils.generatePlots(RecalUtils.java:360)\n",
            "\tat org.broadinstitute.hellbender.tools.walkers.bqsr.AnalyzeCovariates.generatePlots(AnalyzeCovariates.java:329)\n",
            "\tat org.broadinstitute.hellbender.tools.walkers.bqsr.AnalyzeCovariates.doWork(AnalyzeCovariates.java:341)\n",
            "\tat org.broadinstitute.hellbender.cmdline.CommandLineProgram.runTool(CommandLineProgram.java:139)\n",
            "\tat org.broadinstitute.hellbender.cmdline.CommandLineProgram.instanceMainPostParseArgs(CommandLineProgram.java:191)\n",
            "\tat org.broadinstitute.hellbender.cmdline.CommandLineProgram.instanceMain(CommandLineProgram.java:210)\n",
            "\tat org.broadinstitute.hellbender.Main.runCommandLineProgram(Main.java:163)\n",
            "\tat org.broadinstitute.hellbender.Main.mainEntry(Main.java:206)\n",
            "\tat org.broadinstitute.hellbender.Main.main(Main.java:292)\n"
          ]
        }
      ]
    },
    {
      "cell_type": "markdown",
      "source": [
        "Identifikovati mutacije upotrebom alata Haplotype Caller i filtirtati mutacije predefinisanim filterima (hard filtering) prema Broad preporukama (kao što je rađeno na vežbama). Prosledimo ref genom i bazu poznatih mutacija -> dbsnp"
      ],
      "metadata": {
        "id": "rwqPFvS8LBs1"
      }
    },
    {
      "cell_type": "code",
      "source": [
        "gatk = 'java -jar gatk-4.1.4.1/gatk-package-4.1.4.1-local.jar'\n",
        "dbsnp = '/content/v0/Homo_sapiens_assembly38.dbsnp138.vcf'\n",
        "ref = '/content/v0/Homo_sapiens_assembly38.fasta'\n",
        "\n",
        "ibam = '/content/file.recalibrated.bam'\n",
        "ovcf = 'file.vcf'\n",
        "\n",
        "!{gatk} HaplotypeCaller --input {ibam} --output {ovcf} --reference {ref} --dbsnp {dbsnp} -L chr11"
      ],
      "metadata": {
        "id": "vMfmyWZMKxPv",
        "collapsed": true
      },
      "execution_count": null,
      "outputs": []
    },
    {
      "cell_type": "code",
      "source": [
        "snp_f = \"QD < 2.0 || FS > 60.0 || MQ < 40.0 || MQRankSum < -12.5 || ReadPosRankSum < -8.0\"\n",
        "indel_f = \"QD < 2.0 || FS > 200.0 || ReadPosRankSum < -20.0\"\n",
        "\n",
        "ref = '/content/v0/Homo_sapiens_assembly38.fasta'\n",
        "\n",
        "ivcf = '/content/file.vcf'\n",
        "isvcf = 'file.snp.vcf'\n",
        "iivcf = 'file.indel.vcf'\n",
        "\n",
        "\n",
        "osvcf = 'file.snp.filtered.vcf'\n",
        "oivcf = 'file.indel.filtered.vcf'\n",
        "ovcf = 'file.filtered.vcf'"
      ],
      "metadata": {
        "id": "wdOozhQYLa9Y"
      },
      "execution_count": 32,
      "outputs": []
    },
    {
      "cell_type": "code",
      "source": [
        "!{gatk} SelectVariants -R {ref} -V {ivcf} -O {isvcf} --select-type-to-include SNP\n",
        "!{gatk} VariantFiltration -R {ref} -V {isvcf} -O {osvcf} -filter \"{snp_f}\" --filter-name \"snp\"\n",
        "\n",
        "!{gatk} SelectVariants -R {ref} -V {ivcf} -O {iivcf} --select-type-to-include INDEL\n",
        "!{gatk} VariantFiltration -R {ref} -V {iivcf} -O {oivcf} -filter \"{indel_f}\" --filter-name \"indel\"\n",
        "\n",
        "!{gatk} MergeVcfs -I {osvcf} -I {oivcf} -O {ovcf}"
      ],
      "metadata": {
        "id": "Tr429PAWLeIH",
        "collapsed": true
      },
      "execution_count": null,
      "outputs": []
    },
    {
      "cell_type": "code",
      "source": [
        "def is_filtered(variant):\n",
        "  return 'PASS' not in variant.filter\n",
        "\n",
        "def is_snp(variant):\n",
        "  return len(variant.ref) == 1 and len(variant.alts[0]) == 1\n",
        "\n",
        "def is_transitions(variant):\n",
        "  allels = set((variant.ref, variant.alts[0]))\n",
        "  return allels == {'A', 'G'} or allels == {'C', 'T'}"
      ],
      "metadata": {
        "id": "FAXJg6LgLhvp"
      },
      "execution_count": 34,
      "outputs": []
    },
    {
      "cell_type": "markdown",
      "source": [
        "4a. Koliko je ukupno mutacija identifikovano, koliko od njih su SNP-ovi, a koliko INDEL-i?"
      ],
      "metadata": {
        "id": "lurdWPoULkeq"
      }
    },
    {
      "cell_type": "code",
      "source": [
        "ovcf = '/content/file.filtered.vcf'\n",
        "\n",
        "print('SNPs:',\n",
        "      sum(1 for v in pysam.VariantFile(ovcf) if is_filtered(v) and is_snp(v)))\n",
        "\n",
        "print('INDELs:',\n",
        "      sum(1 for v in pysam.VariantFile(ovcf) if is_filtered(v) and not is_snp(v)))"
      ],
      "metadata": {
        "colab": {
          "base_uri": "https://localhost:8080/"
        },
        "id": "4VamCZaQLjDM",
        "outputId": "58c9d77f-2517-4d47-98bf-c57fee98c563"
      },
      "execution_count": 35,
      "outputs": [
        {
          "output_type": "stream",
          "name": "stdout",
          "text": [
            "SNPs: 171\n",
            "INDELs: 26\n"
          ]
        }
      ]
    },
    {
      "cell_type": "markdown",
      "source": [
        "4b. Koliko mutacija prolazi, a koliko ne prolazi kriterijume filtriranja."
      ],
      "metadata": {
        "id": "WVFhN6JrLwZT"
      }
    },
    {
      "cell_type": "code",
      "source": [
        "ovcf = '/content/file.filtered.vcf'\n",
        "print('Filtrirani:', sum(1 for v in pysam.VariantFile(ovcf) if is_filtered(v)))\n",
        "print('Nefiltrirani:', sum(1 for v in pysam.VariantFile(ovcf) if not is_filtered(v)))"
      ],
      "metadata": {
        "colab": {
          "base_uri": "https://localhost:8080/"
        },
        "id": "Eqw8EpdvL0bT",
        "outputId": "9a2468b9-bb29-499e-bb6f-9a135a14eb7c"
      },
      "execution_count": 36,
      "outputs": [
        {
          "output_type": "stream",
          "name": "stdout",
          "text": [
            "Filtrirani: 197\n",
            "Nefiltrirani: 5975\n"
          ]
        }
      ]
    },
    {
      "cell_type": "markdown",
      "source": [
        "4c. Izračunati Ti/Tv odnos pre i posle filtriranja."
      ],
      "metadata": {
        "id": "jfgtkzAVL1Vr"
      }
    },
    {
      "cell_type": "code",
      "source": [
        "x = '/content/file.vcf'\n",
        "\n",
        "tinF = sum(1 for v in pysam.VariantFile(x) \\\n",
        "         if not is_filtered(v) \\\n",
        "         and is_snp(v)\\\n",
        "         and is_transitions(v))\n",
        "\n",
        "tvnF = sum(1 for v in pysam.VariantFile(x) \\\n",
        "          if not is_filtered(v) \\\n",
        "          and is_snp(v) \\\n",
        "          and not is_transitions(v))\n",
        "\n",
        "print('Ti:', tinF)\n",
        "print('Tv:', tvnF)\n",
        "print('Ti/Tv odnos pre filtriranja', tinF/tvnF)\n",
        "\n",
        "\n",
        "tiF = sum(1 for v in pysam.VariantFile(ovcf) \\\n",
        "         if not is_filtered(v) \\\n",
        "         and is_snp(v)\\\n",
        "         and is_transitions(v))\n",
        "\n",
        "tvF = sum(1 for v in pysam.VariantFile(ovcf) \\\n",
        "          if not is_filtered(v) \\\n",
        "          and is_snp(v) \\\n",
        "          and not is_transitions(v))\n",
        "\n",
        "print('Ti:', tiF)\n",
        "print('Tv:', tvF)\n",
        "print('Ti/Tv odnos posle filtriranja', tiF/tvF)"
      ],
      "metadata": {
        "colab": {
          "base_uri": "https://localhost:8080/"
        },
        "id": "VsWWWv1SL3xx",
        "outputId": "9b5a1c0c-b832-4ef1-c47f-cf1f553921a2"
      },
      "execution_count": 37,
      "outputs": [
        {
          "output_type": "stream",
          "name": "stdout",
          "text": [
            "Ti: 3826\n",
            "Tv: 1656\n",
            "Ti/Tv odnos pre filtriranja 2.3103864734299515\n",
            "Ti: 3710\n",
            "Tv: 1599\n",
            "Ti/Tv odnos posle filtriranja 2.320200125078174\n"
          ]
        }
      ]
    },
    {
      "cell_type": "markdown",
      "source": [
        "Anotirati mutacije alatom Funcotator"
      ],
      "metadata": {
        "id": "7Cjzn-wmMUBA"
      }
    },
    {
      "cell_type": "code",
      "source": [
        "!{gatk} FuncotatorDataSourceDownloader --germline --extract-after-download"
      ],
      "metadata": {
        "id": "8AmWDSWqMVEg",
        "collapsed": true
      },
      "execution_count": null,
      "outputs": []
    },
    {
      "cell_type": "code",
      "source": [
        "!cp \"/content/drive/MyDrive/funcotator-funcotator_dataSources.v1.6.20190124g.tar.gz\" .\n",
        "!tar -xzf \"funcotator-funcotator_dataSources.v1.6.20190124g.tar.gz\"\n",
        "ivcf = '/content/file.filtered.vcf'\n",
        "ovcf = 'file.annotated.vcf'\n",
        "func = 'funcotator_dataSources.v1.6.20190124g/'\n",
        "\n",
        "!{gatk} Funcotator -O {ovcf} --ref-version hg38 -R {ref} -V {ivcf} --output-file-format VCF --data-sources-path {func}"
      ],
      "metadata": {
        "collapsed": true,
        "id": "Cm5nFw0RvT2A"
      },
      "execution_count": null,
      "outputs": []
    },
    {
      "cell_type": "code",
      "source": [
        "reader = pysam.VariantFile(ovcf)\n",
        "description = reader.header.info['FUNCOTATION'].description\n",
        "print(description)\n",
        "functotations = description[73:].split('|')"
      ],
      "metadata": {
        "colab": {
          "base_uri": "https://localhost:8080/"
        },
        "id": "sY6SYkTwwMw9",
        "outputId": "7abb7e25-453c-492a-b4cf-3c99aca3e44e"
      },
      "execution_count": 42,
      "outputs": [
        {
          "output_type": "stream",
          "name": "stdout",
          "text": [
            "Functional annotation from the Funcotator tool.  Funcotation fields are: Gencode_27_hugoSymbol|Gencode_27_ncbiBuild|Gencode_27_chromosome|Gencode_27_start|Gencode_27_end|Gencode_27_variantClassification|Gencode_27_secondaryVariantClassification|Gencode_27_variantType|Gencode_27_refAllele|Gencode_27_tumorSeqAllele1|Gencode_27_tumorSeqAllele2|Gencode_27_genomeChange|Gencode_27_annotationTranscript|Gencode_27_transcriptStrand|Gencode_27_transcriptExon|Gencode_27_transcriptPos|Gencode_27_cDnaChange|Gencode_27_codonChange|Gencode_27_proteinChange|Gencode_27_gcContent|Gencode_27_referenceContext|Gencode_27_otherTranscripts|ACMGLMMLof_LOF_Mechanism|ACMGLMMLof_Mode_of_Inheritance|ACMGLMMLof_Notes|ACMG_recommendation_Disease_Name|ClinVar_VCF_AF_ESP|ClinVar_VCF_AF_EXAC|ClinVar_VCF_AF_TGP|ClinVar_VCF_ALLELEID|ClinVar_VCF_CLNDISDB|ClinVar_VCF_CLNDISDBINCL|ClinVar_VCF_CLNDN|ClinVar_VCF_CLNDNINCL|ClinVar_VCF_CLNHGVS|ClinVar_VCF_CLNREVSTAT|ClinVar_VCF_CLNSIG|ClinVar_VCF_CLNSIGCONF|ClinVar_VCF_CLNSIGINCL|ClinVar_VCF_CLNVC|ClinVar_VCF_CLNVCSO|ClinVar_VCF_CLNVI|ClinVar_VCF_DBVARID|ClinVar_VCF_GENEINFO|ClinVar_VCF_MC|ClinVar_VCF_ORIGIN|ClinVar_VCF_RS|ClinVar_VCF_SSR|ClinVar_VCF_ID|ClinVar_VCF_FILTER|LMMKnown_LMM_FLAGGED|LMMKnown_ID|LMMKnown_FILTER\n"
          ]
        }
      ]
    },
    {
      "cell_type": "code",
      "source": [
        "print('\\n'.join(functotations))"
      ],
      "metadata": {
        "id": "jqkWBVrqMmcC",
        "collapsed": true
      },
      "execution_count": null,
      "outputs": []
    },
    {
      "cell_type": "markdown",
      "source": [
        "5a. Izbrojati različite vrednosti ClinVar značajnosti (anotacija ClinVar_VCF_CLNSIG, koliko mutacija je označeno kao Benign, Likely_benign, itd.)."
      ],
      "metadata": {
        "id": "K7O7I0h7MnSc"
      }
    },
    {
      "cell_type": "code",
      "source": [
        "import io\n",
        "import pysam\n",
        "\n",
        "b = 0\n",
        "lb = 0\n",
        "b_lb = 0\n",
        "\n",
        "encodings = ['utf-8', 'latin1', 'cp1252']\n",
        "\n",
        "for encoding in encodings:\n",
        "    try:\n",
        "        with open(ovcf, 'r', encoding=encoding) as vcf_file:\n",
        "            vcf_wrapper = io.TextIOWrapper(vcf_file, encoding=encoding)\n",
        "            vcf_reader = pysam.VariantFile(vcf_wrapper)\n",
        "\n",
        "            for variant in vcf_reader:\n",
        "                ann = {x: y for x, y in zip(functotations, variant.info['FUNCOTATION'][0][1:-1].split('|'))}\n",
        "\n",
        "                if ann['ClinVar_VCF_CLNSIG'] == 'Benign':\n",
        "                    b += 1\n",
        "                elif ann['ClinVar_VCF_CLNSIG'] == 'Likely_benign':\n",
        "                    lb += 1\n",
        "                elif ann['ClinVar_VCF_CLNSIG'] == 'Benign/Likely_benign':\n",
        "                    b_lb += 1\n",
        "\n",
        "        break  # Izlazimo iz petlje ako je uspešno otvoren i dekodiran fajl\n",
        "\n",
        "    except UnicodeDecodeError:\n",
        "        continue  # Pokušavamo sa sledećim enkodingom ako se javi UnicodeDecodeError\n",
        "\n",
        "print('Benign:')\n",
        "print(b)\n",
        "print('Likely_benign:')\n",
        "print(lb)\n",
        "print('Benign/Likely_benign:')\n",
        "print(b_lb)\n"
      ],
      "metadata": {
        "colab": {
          "base_uri": "https://localhost:8080/"
        },
        "id": "E7k4b-tQMqto",
        "outputId": "7346456e-1ebe-45a2-dfa9-ca13e88f816e"
      },
      "execution_count": 44,
      "outputs": [
        {
          "output_type": "stream",
          "name": "stdout",
          "text": [
            "Benign:\n",
            "585\n",
            "Likely_benign:\n",
            "42\n",
            "Benign/Likely_benign:\n",
            "120\n"
          ]
        }
      ]
    },
    {
      "cell_type": "markdown",
      "source": [
        "Svi uzorici sadrže određenu količinu kontaminacije DNK materijalom bakterijskog ili virusnog porekla. Većina ovakvih readova se neće mapirati na ljudski genom. Izvući readove koji nisu mapirani u procesu mapiranja, asemblovati ih alatom abyss, i identifikovati organizam od kojeg potiče najduži skafold upotrebom alata Blast."
      ],
      "metadata": {
        "id": "vXdzce60wYhK"
      }
    },
    {
      "cell_type": "code",
      "source": [
        "!sudo apt-get install autotools-dev automake\n",
        "!git clone https://github.com/bcgsc/abyss.git\n",
        "!cd abyss && ./autogen.sh\n",
        "!cd abyss && ./configure\n",
        "!cd abyss && make\n",
        "!cd abyss && sudo make install\n",
        "\n",
        "!sudo apt-get install abyss"
      ],
      "metadata": {
        "id": "iF0REXTCwZSC",
        "collapsed": true
      },
      "execution_count": null,
      "outputs": []
    },
    {
      "cell_type": "code",
      "source": [
        "!wget https://ftp-trace.ncbi.nlm.nih.gov/sra/sdk/2.10.0/setup-apt.sh\n",
        "!sudo sh setup-apt.sh"
      ],
      "metadata": {
        "id": "lRyUkb8Awe7c",
        "collapsed": true
      },
      "execution_count": null,
      "outputs": []
    },
    {
      "cell_type": "code",
      "source": [
        "# Prazan FASTQ fajl\n",
        "fastq_file = '/content/drive/MyDrive/novi.fastq'\n",
        "\n",
        "# Otvaranje fajla u režimu pisanja\n",
        "with open(fastq_file, 'w') as f:\n",
        "    pass\n",
        "\n",
        "# Potvrda završetka\n",
        "print(f'Prazan FASTQ fajl {fastq_file} je uspešno generisan.')\n"
      ],
      "metadata": {
        "colab": {
          "base_uri": "https://localhost:8080/"
        },
        "id": "U-rqB1avwwMo",
        "outputId": "8ca34f35-ddc3-487a-967f-519a81554ae2"
      },
      "execution_count": 47,
      "outputs": [
        {
          "output_type": "stream",
          "name": "stdout",
          "text": [
            "Prazan FASTQ fajl /content/drive/MyDrive/novi.fastq je uspešno generisan.\n"
          ]
        }
      ]
    },
    {
      "cell_type": "code",
      "source": [
        "!pip install Bio"
      ],
      "metadata": {
        "id": "v17ZFr3vxRJ7",
        "collapsed": true
      },
      "execution_count": null,
      "outputs": []
    },
    {
      "cell_type": "code",
      "source": [
        "from Bio import SeqIO\n",
        "import pysam\n",
        "from Bio.Seq import Seq\n",
        "from Bio.SeqRecord import SeqRecord"
      ],
      "metadata": {
        "id": "jxGr-wjX0ltB"
      },
      "execution_count": 49,
      "outputs": []
    },
    {
      "cell_type": "code",
      "source": [
        "from Bio import SeqIO\n",
        "import pysam\n",
        "\n",
        "# Putanja do BAM fajla\n",
        "bam_file = '/content/file.sorted.bam'\n",
        "\n",
        "# Otvorite BAM fajl za čitanje\n",
        "bam = pysam.AlignmentFile(bam_file, 'rb')\n",
        "\n",
        "# Kreirajte praznu listu za čuvanje ne-mapiranih readova\n",
        "unmapped_reads = []\n",
        "\n",
        "# Iterirajte kroz svaki read u BAM fajlu\n",
        "for read in bam.fetch():\n",
        "    if read.is_unmapped:  # Proverite da li je read ne-mapiran\n",
        "        unmapped_reads.append(read.query_sequence)\n",
        "\n",
        "# Zatvorite BAM fajl\n",
        "bam.close()\n",
        "\n",
        "# Putanja do izlaznog FASTQ fajla\n",
        "fastq_file = '/content/drive/MyDrive/novi.fastq'\n",
        "\n",
        "# Kreiranje i čuvanje FASTQ zapisa za nemapirane readove\n",
        "seq_records = []\n",
        "for i, seq in enumerate(unmapped_reads):\n",
        "    seq_record = SeqRecord(Seq(seq), id=f'read{i+1}', description='')\n",
        "    seq_record.letter_annotations[\"phred_quality\"] = [40] * len(seq)  # Postavljamo podrazumevanu vrednost kvaliteta\n",
        "    seq_records.append(seq_record)\n",
        "\n",
        "SeqIO.write(seq_records, fastq_file, 'fastq')\n",
        "\n",
        "\n",
        "print(f'FASTQ fajl sa nemapiranim readovima je uspešno kreiran: {fastq_file}')\n"
      ],
      "metadata": {
        "colab": {
          "base_uri": "https://localhost:8080/"
        },
        "id": "ghNo4WYnwzEa",
        "outputId": "0d5e76a5-49a3-4527-e04a-f1c290aab691"
      },
      "execution_count": 51,
      "outputs": [
        {
          "output_type": "stream",
          "name": "stdout",
          "text": [
            "FASTQ fajl sa nemapiranim readovima je uspešno kreiran: /content/drive/MyDrive/novi.fastq\n"
          ]
        }
      ]
    },
    {
      "cell_type": "code",
      "source": [
        "!abyss-pe name=chr11 k=64 in='/content/drive/MyDrive/sample_4.chrom11.exome.pe1.fq /content/drive/MyDrive/sample_4.chrom11.exome.pe2.fq'"
      ],
      "metadata": {
        "id": "kfzceQG_yT_L",
        "collapsed": true
      },
      "execution_count": null,
      "outputs": []
    },
    {
      "cell_type": "code",
      "source": [
        "import pysam\n",
        "\n",
        "freader = pysam.FastaFile('/content/drive/MyDrive/novi.fastq')\n",
        "\n",
        "list(zip(freader.lengths, freader.references))\n",
        "\n",
        "max_ref = sorted(zip(freader.lengths, freader.references), reverse=True)[0]\n",
        "max_ref\n",
        "\n",
        "freader.fetch(max_ref[1])"
      ],
      "metadata": {
        "colab": {
          "base_uri": "https://localhost:8080/",
          "height": 35
        },
        "id": "XnqeWDJ7yYsw",
        "outputId": "0283545f-3e9f-4830-b89b-8361cc942eca"
      },
      "execution_count": 56,
      "outputs": [
        {
          "output_type": "execute_result",
          "data": {
            "text/plain": [
              "'CTGTAGCTGAAGTAACGCAAGCCATTCAAACCGCTCAGGAACTGAATCTGTCTCTTATACACATCTGACGCTGCCGACGATCTTACGCGTGTAGATCTCGGTGGTCGCCGTATCATTAAAAAAAATGGGGGGGGGGGGGGGGGGGGGGGGG'"
            ],
            "application/vnd.google.colaboratory.intrinsic+json": {
              "type": "string"
            }
          },
          "metadata": {},
          "execution_count": 56
        }
      ]
    }
  ]
}